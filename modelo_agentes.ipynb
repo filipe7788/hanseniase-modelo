{
  "cells": [
    {
      "cell_type": "code",
      "execution_count": 1,
      "id": "52c83072-8a03-4a47-8fde-50830bf11cbd",
      "metadata": {
        "id": "52c83072-8a03-4a47-8fde-50830bf11cbd"
      },
      "outputs": [],
      "source": [
        "# imports\n",
        "import numpy as np\n",
        "import random\n",
        "import matplotlib.pyplot as plt\n",
        "import matplotlib.animation as animation"
      ]
    },
    {
      "cell_type": "code",
      "execution_count": 2,
      "id": "be4ef054-97a7-470d-9894-1e5c0474e7c0",
      "metadata": {
        "id": "be4ef054-97a7-470d-9894-1e5c0474e7c0"
      },
      "outputs": [],
      "source": [
        "def espaco(linhas):\n",
        "  return np.zeros((linhas, linhas))"
      ]
    },
    {
      "cell_type": "code",
      "execution_count": 3,
      "id": "7fc35c54-e308-44b9-b0c3-33cbfc0e664b",
      "metadata": {
        "id": "7fc35c54-e308-44b9-b0c3-33cbfc0e664b"
      },
      "outputs": [],
      "source": [
        "def pega_individuo_nulo(matrix):\n",
        "    shape = np.shape(matrix)\n",
        "\n",
        "    x_aleatorio = random.randint(0, shape[0]-1)\n",
        "    y_aleatorio = random.randint(0, shape[0]-1)\n",
        "\n",
        "    individuo = matrix[x_aleatorio][y_aleatorio]\n",
        "\n",
        "    if individuo == 0:\n",
        "        matrix[x_aleatorio][y_aleatorio] = 1\n",
        "    else:\n",
        "        pega_individuo_nulo(matrix)\n",
        "\n",
        "    return matrix\n"
      ]
    },
    {
      "cell_type": "code",
      "execution_count": 4,
      "id": "9b6f06a2-5a8b-42f4-982f-a9454e9675d1",
      "metadata": {
        "id": "9b6f06a2-5a8b-42f4-982f-a9454e9675d1"
      },
      "outputs": [],
      "source": [
        "def individuos(matrix, num_individuos):\n",
        "    for i in range(0, num_individuos):\n",
        "        pega_individuo_nulo(matrix)\n",
        "    return matrix"
      ]
    },
    {
      "cell_type": "code",
      "execution_count": 5,
      "id": "ac77f6bb-c745-41a7-9cd0-0eb89aa4bd4b",
      "metadata": {
        "id": "ac77f6bb-c745-41a7-9cd0-0eb89aa4bd4b"
      },
      "outputs": [],
      "source": [
        "def vizinhanca(matriz, linha, coluna):\n",
        "    linhas, colunas = matriz.shape\n",
        "    vizinhos = []\n",
        "\n",
        "    # Define as coordenadas relativas dos vizinhos de Moore\n",
        "    coords_relativas = [(i, j) for i in range(-1, 2) for j in range(-1, 2) if (i != 0 or j != 0)]\n",
        "\n",
        "    for dx, dy in coords_relativas:\n",
        "        nova_linha, nova_coluna = linha + dx, coluna + dy\n",
        "        if 0 <= nova_linha < linhas and 0 <= nova_coluna < colunas:\n",
        "            vizinhos.append(matriz[nova_linha, nova_coluna])\n",
        "\n",
        "    return (0, (linha, coluna), vizinhos)"
      ]
    },
    {
      "cell_type": "code",
      "execution_count": null,
      "metadata": {},
      "outputs": [],
      "source": [
        "def vizinhos_adjacente(matriz, vertice):\n",
        "    linhas, colunas = matriz.shape\n",
        "    vizinhos_info = []\n",
        "\n",
        "    for i in range(linhas):\n",
        "        for j in range(colunas):\n",
        "            vizinhos = np.where(matriz[i] == 1)[0]\n",
        "            vizinhos_info.append([0, i, j] + list(vizinhos))\n",
        "\n",
        "    return np.array(vizinhos_info), vertice"
      ]
    },
    {
      "cell_type": "code",
      "execution_count": null,
      "metadata": {},
      "outputs": [],
      "source": [
        "\n",
        "def infectar(populacao, numero):\n",
        "    indices_suscetiveis = np.where(populacao[:, 0] == 0)[0]\n",
        "    indices_infectar = np.random.choice(indices_suscetiveis, size=numero, replace=False)\n",
        "    populacao[indices_infectar, 0] = 1\n",
        "    return populacao"
      ]
    },
    {
      "cell_type": "code",
      "execution_count": null,
      "metadata": {},
      "outputs": [],
      "source": [
        "def ruido(populacao, numero, prob):\n",
        "    indices_ruido = np.random.choice(populacao.shape[0], size=numero, replace=False)\n",
        "    for i in indices_ruido:\n",
        "        if random.random() < prob:\n",
        "            populacao[i, 0] = 1 - populacao[i, 0]  # Inverte o estado de infecção\n",
        "    return populacao"
      ]
    },
    {
      "cell_type": "code",
      "execution_count": null,
      "metadata": {},
      "outputs": [],
      "source": [
        "def atualizar(populacao, numero, prob):\n",
        "\n",
        "    nova_matriz = populacao.copy()\n",
        "    for i in range(populacao.shape[0]):\n",
        "        if populacao[i, 0] == 0:  # Apenas para indivíduos suscetíveis\n",
        "            vizinhos_infectados = np.sum(populacao[populacao[i, 3:11], 0] == 1)\n",
        "            if vizinhos_infectados == numero and np.random.rand() < prob:\n",
        "                nova_matriz[i, 0] = 1  # Indivíduo suscetível foi infectado\n",
        "    return nova_matriz\n"
      ]
    },
    {
      "cell_type": "code",
      "execution_count": null,
      "metadata": {},
      "outputs": [],
      "source": [
        "def gravar(populacao, nome_arquivo):\n",
        "    np.savetxt(f\"{nome_arquivo}.txt\", populacao[:, 1:], fmt='%d', delimiter=' ')\n"
      ]
    },
    {
      "cell_type": "code",
      "execution_count": 6,
      "id": "dd32ed14-3b6c-469b-8985-ebc1db11eb0f",
      "metadata": {
        "id": "dd32ed14-3b6c-469b-8985-ebc1db11eb0f",
        "outputId": "33f20da8-26c2-4c4f-e4a0-b941024df6b4"
      },
      "outputs": [],
      "source": [
        "matrix = espaco(10)\n",
        "matrix_com_individuos = individuos(matrix, 5)\n",
        "populacao_info, max_vizinhos = vizinhos_adjacente(matrix_com_individuos)\n",
        "populacao_info = infectar(populacao_info, 5)\n",
        "\n",
        "\n",
        "n_epocas = 50\n",
        "\n",
        "for tempo in range(1, n_epocas + 1):\n",
        "    populacao_info = atualizar(populacao_info, 2, 0.05)\n",
        "\n",
        "    if tempo % 5 == 0:\n",
        "        gravar(populacao_info, f\"estado_{tempo}\")\n",
        "\n",
        "    populacao_info = ruido(populacao_info, 10, 0.005)"
      ]
    }
  ],
  "metadata": {
    "colab": {
      "provenance": []
    },
    "kernelspec": {
      "display_name": "Python 3 (ipykernel)",
      "language": "python",
      "name": "python3"
    },
    "language_info": {
      "codemirror_mode": {
        "name": "ipython",
        "version": 3
      },
      "file_extension": ".py",
      "mimetype": "text/x-python",
      "name": "python",
      "nbconvert_exporter": "python",
      "pygments_lexer": "ipython3",
      "version": "3.11.4"
    }
  },
  "nbformat": 4,
  "nbformat_minor": 5
}
