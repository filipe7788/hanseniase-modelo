{
  "cells": [
    {
      "cell_type": "code",
      "execution_count": 297,
      "id": "52c83072-8a03-4a47-8fde-50830bf11cbd",
      "metadata": {
        "id": "52c83072-8a03-4a47-8fde-50830bf11cbd"
      },
      "outputs": [],
      "source": [
        "# imports\n",
        "import numpy as np\n",
        "import random\n",
        "import os"
      ]
    },
    {
      "cell_type": "code",
      "execution_count": 298,
      "id": "be4ef054-97a7-470d-9894-1e5c0474e7c0",
      "metadata": {
        "id": "be4ef054-97a7-470d-9894-1e5c0474e7c0"
      },
      "outputs": [],
      "source": [
        "def espaco(linhas):\n",
        "  return np.zeros((linhas, linhas))"
      ]
    },
    {
      "cell_type": "code",
      "execution_count": 299,
      "id": "7fc35c54-e308-44b9-b0c3-33cbfc0e664b",
      "metadata": {
        "id": "7fc35c54-e308-44b9-b0c3-33cbfc0e664b"
      },
      "outputs": [],
      "source": [
        "def pega_individuo_nulo(matrix):\n",
        "    shape = np.shape(matrix)\n",
        "\n",
        "    x_aleatorio = random.randint(0, shape[0]-1)\n",
        "    y_aleatorio = random.randint(0, shape[0]-1)\n",
        "\n",
        "    individuo = matrix[x_aleatorio][y_aleatorio]\n",
        "\n",
        "    if individuo == 0:\n",
        "        matrix[x_aleatorio][y_aleatorio] = 1\n",
        "    else:\n",
        "        pega_individuo_nulo(matrix)\n",
        "\n",
        "    return matrix\n"
      ]
    },
    {
      "cell_type": "code",
      "execution_count": 300,
      "id": "9b6f06a2-5a8b-42f4-982f-a9454e9675d1",
      "metadata": {
        "id": "9b6f06a2-5a8b-42f4-982f-a9454e9675d1"
      },
      "outputs": [],
      "source": [
        "def individuos(matrix, num_individuos):\n",
        "    for i in range(0, num_individuos):\n",
        "        pega_individuo_nulo(matrix)\n",
        "    return matrix"
      ]
    },
    {
      "cell_type": "code",
      "execution_count": 301,
      "id": "ac77f6bb-c745-41a7-9cd0-0eb89aa4bd4b",
      "metadata": {
        "id": "ac77f6bb-c745-41a7-9cd0-0eb89aa4bd4b"
      },
      "outputs": [],
      "source": [
        "def vizinhanca(matriz):\n",
        "    linhas, colunas = matriz.shape\n",
        "    max_vizinhos = 8 \n",
        "\n",
        "    populacao = np.zeros((linhas * colunas, 3 + max_vizinhos), dtype=int)\n",
        "\n",
        "    k = 0\n",
        "    for i in range(linhas):\n",
        "        for j in range(colunas):\n",
        "            populacao[k, 1] = i\n",
        "            populacao[k, 2] = j\n",
        "\n",
        "            vizinhos = []\n",
        "            for x in range(i - 1, i + 2):\n",
        "                for y in range(j - 1, j + 2):\n",
        "                    if 0 <= x < linhas and 0 <= y < colunas and (x != i or y != j):\n",
        "                        vizinhos.append((x, y))\n",
        "\n",
        "            # Ajuste para garantir que não ultrapasse o número máximo de vizinhos\n",
        "            vizinhos = vizinhos[:max_vizinhos]\n",
        "\n",
        "            # Preenchendo os vizinhos na matriz populacao\n",
        "            populacao[k, 3:(3 + len(vizinhos))] = [x * colunas + y for x, y in vizinhos]\n",
        "            k += 1\n",
        "\n",
        "    return populacao, max_vizinhos"
      ]
    },
    {
      "cell_type": "code",
      "execution_count": 302,
      "metadata": {},
      "outputs": [],
      "source": [
        "def infectar(populacao, numero):\n",
        "    indices_suscetiveis = np.where(populacao[:, 0] == 0)[0]\n",
        "    indices_infectar = np.random.choice(indices_suscetiveis, size=numero, replace=False)\n",
        "    populacao[indices_infectar, 0] = 1\n",
        "    return populacao"
      ]
    },
    {
      "cell_type": "code",
      "execution_count": 303,
      "metadata": {},
      "outputs": [],
      "source": [
        "def ruido(populacao, numero, prob):\n",
        "    indices_ruido = np.random.choice(populacao.shape[0], size=numero, replace=False)\n",
        "    for i in indices_ruido:\n",
        "        if random.random() < prob and populacao[i, 0] == 1:\n",
        "            populacao[i, 0] = 1 - populacao[i, 0]  # Inverte o estado de infecção\n",
        "    return populacao"
      ]
    },
    {
      "cell_type": "code",
      "execution_count": 304,
      "metadata": {},
      "outputs": [],
      "source": [
        "def atualizar(populacao, numero, prob):\n",
        "    nova_matriz = populacao.copy()\n",
        "    for i in range(populacao.shape[0]):\n",
        "        if populacao[i, 0] == 0:  # Apenas para indivíduos suscetíveis\n",
        "\n",
        "            vizinhos_infectados = np.sum(populacao[populacao[i, 3:11], 0] == 1)\n",
        "            if vizinhos_infectados >= numero and np.random.rand() < prob:\n",
        "                nova_matriz[i, 0] = 1  # Indivíduo suscetível foi infectado\n",
        "    return nova_matriz\n"
      ]
    },
    {
      "cell_type": "code",
      "execution_count": 305,
      "metadata": {},
      "outputs": [],
      "source": [
        "def gravar(populacao, diretorio, nome_arquivo):\n",
        "    nome_arquivo = os.path.join(diretorio, nome_arquivo)\n",
        "    with open(nome_arquivo, 'w') as arquivo:\n",
        "        arquivo.write(\"x y estado\\n\")\n",
        "        for linha in (populacao):\n",
        "            x, y = int(linha[1]), int(linha[2])\n",
        "            estado = int(linha[0])\n",
        "            arquivo.write(f\"{x} {y} {estado}\\n\")"
      ]
    },
    {
      "cell_type": "code",
      "execution_count": 306,
      "id": "1f51af2a",
      "metadata": {},
      "outputs": [],
      "source": [
        "def vacinacao(populacao, num_vacinacao):\n",
        "    vacinados = 0\n",
        "    nova_matriz = populacao.copy()\n",
        "    while vacinados <= num_vacinacao:\n",
        "        lista_suscetiveis = np.where(nova_matriz[:, 0] == 0)[0]\n",
        "        if len(lista_suscetiveis) > 0:\n",
        "            sortudo = np.random.choice(lista_suscetiveis)\n",
        "            nova_matriz[sortudo, 0] = 2\n",
        "            vacinados = vacinados+1\n",
        "            # O suscetível será removido da populacao quando seu estado for alterado\n",
        "        else:\n",
        "            print(\"Não existem indivíduos suscetíveis para serem vacinados\")\n",
        "            break\n",
        "    return nova_matriz"
      ]
    },
    {
      "cell_type": "code",
      "execution_count": 307,
      "id": "dd32ed14-3b6c-469b-8985-ebc1db11eb0f",
      "metadata": {
        "id": "dd32ed14-3b6c-469b-8985-ebc1db11eb0f",
        "outputId": "33f20da8-26c2-4c4f-e4a0-b941024df6b4"
      },
      "outputs": [
        {
          "name": "stdout",
          "output_type": "stream",
          "text": [
            "Não existem indivíduos suscetíveis para serem vacinados\n",
            "Não existem indivíduos suscetíveis para serem vacinados\n"
          ]
        }
      ],
      "source": [
        "tamanho_matriz = 10\n",
        "num_inicial_de_individuos = 5\n",
        "num_aleatorio_de_infectados_iniciais = 5\n",
        "\n",
        "num_min_de_vizinhos_infectados = 2\n",
        "chance_de_infeccao_com_vizinho = 0.05\n",
        "\n",
        "num_individuos_de_ruido = 10\n",
        "chance_de_infeccao_de_ruido = 0.005\n",
        "\n",
        "matrix = espaco(tamanho_matriz)\n",
        "matrix_com_individuos = individuos(matrix, num_inicial_de_individuos)\n",
        "populacao_info, max_vizinhos = vizinhanca(matrix_com_individuos)\n",
        "populacao_info = infectar(populacao_info, num_aleatorio_de_infectados_iniciais)\n",
        "\n",
        "\n",
        "n_epocas = 300\n",
        "epocas_vacinacao = [50, 100, 150]\n",
        "num_vacinacao = 33\n",
        "\n",
        "for tempo in range(1, n_epocas):\n",
        "    populacao_info = atualizar(populacao_info, num_min_de_vizinhos_infectados, chance_de_infeccao_com_vizinho)\n",
        "    populacao_info = ruido(populacao_info, num_individuos_de_ruido, chance_de_infeccao_de_ruido)\n",
        "    if tempo in epocas_vacinacao:\n",
        "        populacao_info = vacinacao(populacao_info, num_vacinacao)\n",
        "    \n",
        "    gravar(populacao_info, \"epocas\", f\"estado_{tempo}.txt\")\n"
      ]
    },
    {
      "cell_type": "code",
      "execution_count": 308,
      "metadata": {},
      "outputs": [],
      "source": [
        "def ler_populacao():\n",
        "    diretorio = \"epocas\"\n",
        "    arquivos = [arquivo for arquivo in os.listdir(diretorio) if arquivo.endswith(\".txt\")]\n",
        "    arquivos.sort(key=lambda x: int(x.split(\"_\")[1].split(\".\")[0]))\n",
        "\n",
        "    dados_populacao = []\n",
        "\n",
        "    for arquivo in arquivos:\n",
        "        caminho_arquivo = os.path.join(diretorio, arquivo)\n",
        "        with open(caminho_arquivo, 'r') as file:\n",
        "            # Ignorando a primeira linha (cabeçalho)\n",
        "            linhas = file.readlines()[1:]\n",
        "            dados = [linha.strip().split() for linha in linhas]\n",
        "            dados = np.array([[int(x), int(y), int(estado)] for x, y, estado in dados])\n",
        "            dados_populacao.append(dados)\n",
        "\n",
        "    return dados_populacao"
      ]
    },
    {
      "cell_type": "code",
      "execution_count": 309,
      "metadata": {},
      "outputs": [],
      "source": [
        "import imageio\n",
        "from io import BytesIO\n",
        "from matplotlib import pyplot as plt"
      ]
    },
    {
      "cell_type": "code",
      "execution_count": 310,
      "metadata": {},
      "outputs": [],
      "source": [
        "def criar_matriz_visual_bytes(dados):\n",
        "    coordenadas_x = [x for x, _, _ in dados]\n",
        "    coordenadas_y = [y for _, y, _ in dados]\n",
        "    estados = [estado for _, _, estado in dados]\n",
        "\n",
        "    fig, ax = plt.subplots()\n",
        "    scatter = ax.scatter(coordenadas_x, coordenadas_y, c=estados, cmap='gray_r', s=100, marker='s')\n",
        "    ax.set_xticks(range(max(coordenadas_x) + 1))\n",
        "    ax.set_yticks(range(max(coordenadas_y) + 1))\n",
        "    ax.grid(True)\n",
        "\n",
        "    # Converter a figura para bytes\n",
        "    buf = BytesIO()\n",
        "    plt.savefig(buf, format='png')\n",
        "    plt.close(fig)\n",
        "\n",
        "\n",
        "    return buf.getvalue()"
      ]
    },
    {
      "cell_type": "code",
      "execution_count": 311,
      "metadata": {},
      "outputs": [],
      "source": [
        "def excluir_arquivos_na_pasta(caminho_da_pasta = \"epocas\"):\n",
        "    # Obtém a lista de arquivos na pasta\n",
        "    arquivos = os.listdir(caminho_da_pasta)\n",
        "\n",
        "    # Itera sobre a lista de arquivos e os exclui\n",
        "    for arquivo in arquivos:\n",
        "        caminho_completo = os.path.join(caminho_da_pasta, arquivo)\n",
        "        if os.path.isfile(caminho_completo):\n",
        "            os.remove(caminho_completo)"
      ]
    },
    {
      "cell_type": "code",
      "execution_count": 312,
      "metadata": {},
      "outputs": [
        {
          "name": "stderr",
          "output_type": "stream",
          "text": [
            "C:\\Users\\Filipe\\AppData\\Local\\Temp\\ipykernel_8508\\2106218463.py:15: DeprecationWarning: Starting with ImageIO v3 the behavior of this function will switch to that of iio.v3.imread. To keep the current behavior (and make this warning disappear) use `import imageio.v2 as imageio` or call `imageio.v2.imread` directly.\n",
            "  imagem = imageio.imread(figura_bytes, format='png')\n"
          ]
        }
      ],
      "source": [
        "populacao = ler_populacao()\n",
        "lista_figuras = []\n",
        "\n",
        "# Lista para armazenar as figuras em bytes\n",
        "lista_figuras_bytes = []\n",
        "\n",
        "# Criar as figuras\n",
        "for dados_iteracao in populacao:\n",
        "    figura_bytes = criar_matriz_visual_bytes(dados_iteracao)\n",
        "    lista_figuras_bytes.append(figura_bytes)\n",
        "\n",
        "# Criar o arquivo GIF\n",
        "with imageio.get_writer('matriz_visual.gif', duration=0.5) as writer:\n",
        "    for figura_bytes in lista_figuras_bytes:\n",
        "        imagem = imageio.imread(figura_bytes, format='png')\n",
        "        writer.append_data(imagem)\n",
        "\n"
      ]
    },
    {
      "cell_type": "code",
      "execution_count": 313,
      "id": "f5cf439c",
      "metadata": {},
      "outputs": [],
      "source": [
        "excluir_arquivos_na_pasta()"
      ]
    }
  ],
  "metadata": {
    "colab": {
      "provenance": []
    },
    "kernelspec": {
      "display_name": "Python 3",
      "language": "python",
      "name": "python3"
    },
    "language_info": {
      "codemirror_mode": {
        "name": "ipython",
        "version": 3
      },
      "file_extension": ".py",
      "mimetype": "text/x-python",
      "name": "python",
      "nbconvert_exporter": "python",
      "pygments_lexer": "ipython3",
      "version": "3.12.2"
    }
  },
  "nbformat": 4,
  "nbformat_minor": 5
}
